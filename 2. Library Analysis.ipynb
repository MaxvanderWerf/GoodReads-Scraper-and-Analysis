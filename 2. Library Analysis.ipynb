{
 "cells": [
  {
   "cell_type": "markdown",
   "id": "bab63c73",
   "metadata": {},
   "source": [
    "# Library Analysis"
   ]
  },
  {
   "cell_type": "code",
   "execution_count": 1,
   "id": "86be0f8f",
   "metadata": {},
   "outputs": [],
   "source": [
    "import pandas as pd\n",
    "import matplotlib.pyplot as plt\n",
    "from dateutil.parser import parse"
   ]
  },
  {
   "cell_type": "code",
   "execution_count": null,
   "id": "998e4657",
   "metadata": {},
   "outputs": [],
   "source": [
    "df = pd.read_csv(\"books.csv\")\n",
    "\n",
    "# Data Cleaning\n",
    "df['title'] = df['title'].str.lstrip()\n",
    "df['num ratings'] = df['num ratings'].str.lstrip()\n",
    "df['num ratings'] = df['num ratings'].str.replace(',', '', regex=True)\n",
    "df.drop(['Unnamed: 0'], axis = 1, inplace = True)\n",
    "df.loc[df['num pages'] == \"unknown\", \"num pages\"] = 0\n",
    "df[\"num pages\"] = df[\"num pages\"].astype(float)\n",
    "df[\"rating_numeric\"] = df[\"rating\"]\n",
    "df.loc[df['rating_numeric'] == \"Not Rated\", \"rating_numeric\"] = 0\n",
    "df[\"rating_numeric\"] = df[\"rating_numeric\"].astype(float)\n",
    "df[\"avg rating\"] = df[\"avg rating\"].astype(float)\n",
    "df[\"num ratings\"] = df[\"num ratings\"].astype(float)\n",
    "df['difference'] = df['rating_numeric'] - df['avg rating']\n",
    "df['date pub'] = pd.to_datetime(df['date pub'], errors='coerce')\n",
    "df['date read'] = pd.to_datetime(df['date read'], errors='coerce')\n",
    "\n",
    "df.head(5)"
   ]
  },
  {
   "cell_type": "code",
   "execution_count": null,
   "id": "f14bddf7",
   "metadata": {},
   "outputs": [],
   "source": [
    "# Aantal boeken gelezen / ge-rate / datum aangegeven\n",
    "# Aantal paginas gelezen\n",
    "\n",
    "books_read = len(df.index)\n",
    "no_date_entered = sum(df['date read'] == '-')\n",
    "with_date = books_read - no_date_entered\n",
    "no_rating = sum(df['rating'] == 'Not Rated')\n",
    "with_rating = books_read - no_rating\n",
    "total_pages = df['num pages'].sum()\n",
    "average_pages = total_pages / books_read\n",
    "\n",
    "print(\n",
    "f\"The numer of books read is {books_read}\"\n",
    "f\"\\nOut of {books_read} books, {with_rating} have been rated and {no_rating} have not.\"\n",
    "f\"\\nOut of {books_read} books, for {with_date}, the reading date has been entered and for {no_date_entered} it has not.\"\n",
    "f\"\\nThe total number of pages read is {total_pages}\"\n",
    "f\"\\nThe average number of pages per book is {average_pages}\")"
   ]
  },
  {
   "cell_type": "code",
   "execution_count": null,
   "id": "6ab15314",
   "metadata": {},
   "outputs": [],
   "source": [
    "#5 sterren boeken\n",
    "top_books = df[df['rating_numeric'] == 5]\n",
    "top_books"
   ]
  },
  {
   "cell_type": "code",
   "execution_count": null,
   "id": "6a45f4db",
   "metadata": {},
   "outputs": [],
   "source": [
    "# Top 5 oudste boeken\n",
    "df.sort_values(by=['date pub']).head(5)"
   ]
  },
  {
   "cell_type": "code",
   "execution_count": null,
   "id": "5203879f",
   "metadata": {},
   "outputs": [],
   "source": [
    "# Top 5 nieuwste boeken\n",
    "df.sort_values(by=['date pub'], ascending=False).head(5)"
   ]
  },
  {
   "cell_type": "code",
   "execution_count": null,
   "id": "1a816a38",
   "metadata": {},
   "outputs": [],
   "source": [
    "# Distributie beoordeling\n",
    "df_only_rated = df.drop(df[df.rating_numeric == 0].index)\n",
    "df_only_rated['rating_numeric'].plot(kind='hist')"
   ]
  },
  {
   "cell_type": "code",
   "execution_count": null,
   "id": "45ade24c",
   "metadata": {},
   "outputs": [],
   "source": [
    "# Distributie aantal pagina's\n",
    "df['num pages'].plot(kind='hist')"
   ]
  },
  {
   "cell_type": "code",
   "execution_count": null,
   "id": "70b2e66e",
   "metadata": {},
   "outputs": [],
   "source": [
    "# Favourite writers\n",
    "writers = df.groupby(['author'])['author'].count()\n",
    "best_writers = writers.sort_values(ascending=False)\n",
    "best_writers.head(5)"
   ]
  },
  {
   "cell_type": "code",
   "execution_count": null,
   "id": "6f21a84e",
   "metadata": {},
   "outputs": [],
   "source": [
    "# Favourite writers - avg. rating\n",
    "df.groupby(['author']).rating.mean()"
   ]
  },
  {
   "cell_type": "code",
   "execution_count": null,
   "id": "034e3468",
   "metadata": {},
   "outputs": [],
   "source": [
    "# Favourite writers - avg. number of pages\n",
    "df.groupby(['author']).rating.mean()"
   ]
  },
  {
   "cell_type": "markdown",
   "id": "1796d23f",
   "metadata": {},
   "source": [
    "### Vergelijking jij met publiek"
   ]
  },
  {
   "cell_type": "code",
   "execution_count": null,
   "id": "42415446",
   "metadata": {},
   "outputs": [],
   "source": [
    "# Boeken waarover je veel positiever bent\n",
    "df.sort_values(by='difference', ascending=False).head(5)"
   ]
  },
  {
   "cell_type": "code",
   "execution_count": null,
   "id": "510de8cc",
   "metadata": {},
   "outputs": [],
   "source": [
    "# Boeken waarover je veel negatiever bent\n",
    "df = df.drop(df[df.rating_numeric == 0].index)\n",
    "df.sort_values(by='difference').head(5)"
   ]
  },
  {
   "cell_type": "code",
   "execution_count": null,
   "id": "a5f4f090",
   "metadata": {},
   "outputs": [],
   "source": [
    "# Mean difference between my ratings and those of other readers\n",
    "mean_difference = df['difference'].apply(abs).mean()"
   ]
  },
  {
   "cell_type": "code",
   "execution_count": null,
   "id": "97be5925",
   "metadata": {},
   "outputs": [],
   "source": [
    "# Distribution of when you read the books\n",
    "\n",
    "## By year\n",
    "year_read = df['date read'].dt.year\n",
    "\n",
    "n, bins, patches = plt.hist(x=year_read, bins='auto', color='#0504aa')\n",
    "plt.grid(axis='y')\n",
    "plt.xlabel('Year')\n",
    "plt.ylabel('Number of Books')\n",
    "plt.title('When did I read most books?')\n",
    "maxfreq = n.max()"
   ]
  },
  {
   "cell_type": "code",
   "execution_count": null,
   "id": "aa04217a",
   "metadata": {},
   "outputs": [],
   "source": [
    "# Distribution of when the books were published by year\n",
    "year_pub = df['date pub'].dt.year\n",
    "\n",
    "n, bins, patches = plt.hist(x=year_pub, bins='auto', color='#0504aa')\n",
    "plt.grid(axis='y')\n",
    "plt.xlabel('Year')\n",
    "plt.ylabel('Number of Books')\n",
    "plt.title('Date Published of Read Books')\n",
    "maxfreq = n.max()"
   ]
  }
 ],
 "metadata": {
  "kernelspec": {
   "display_name": "Python 3 (ipykernel)",
   "language": "python",
   "name": "python3"
  },
  "language_info": {
   "codemirror_mode": {
    "name": "ipython",
    "version": 3
   },
   "file_extension": ".py",
   "mimetype": "text/x-python",
   "name": "python",
   "nbconvert_exporter": "python",
   "pygments_lexer": "ipython3",
   "version": "3.9.7"
  },
  "toc": {
   "base_numbering": 1,
   "nav_menu": {},
   "number_sections": true,
   "sideBar": true,
   "skip_h1_title": false,
   "title_cell": "Table of Contents",
   "title_sidebar": "Contents",
   "toc_cell": false,
   "toc_position": {},
   "toc_section_display": true,
   "toc_window_display": false
  }
 },
 "nbformat": 4,
 "nbformat_minor": 5
}
